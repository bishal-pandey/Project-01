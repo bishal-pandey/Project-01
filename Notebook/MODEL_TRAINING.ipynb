{
 "cells": [
  {
   "cell_type": "code",
   "execution_count": null,
   "metadata": {
    "id": "FdjDngQ-3C7J",
    "tags": []
   },
   "outputs": [],
   "source": [
    "import pandas as pd\n",
    "import numpy as np\n",
    "import matplotlib.pyplot as plt\n",
    "import seaborn as sns\n",
    "\n",
    "from sklearn.inspection import DecisionBoundaryDisplay\n",
    "from sklearn.model_selection import train_test_split\n",
    "from sklearn.pipeline import Pipeline\n",
    "from sklearn.preprocessing import PolynomialFeatures,StandardScaler, OneHotEncoder, OrdinalEncoder\n",
    "from sklearn.linear_model import SGDRegressor, LinearRegression, Ridge,Lasso\n",
    "from sklearn.metrics import mean_squared_error, r2_score, mean_absolute_error\n",
    "from sklearn.svm import SVR\n",
    "from sklearn.tree import DecisionTreeRegressor\n",
    "from xgboost import XGBRegressor\n",
    "from sklearn.ensemble import RandomForestRegressor\n",
    "from sklearn.neighbors import KNeighborsRegressor\n",
    "from sklearn.model_selection import RandomizedSearchCV\n",
    "from sklearn.compose import ColumnTransformer\n",
    "\n",
    "import warnings"
   ]
  },
  {
   "cell_type": "code",
   "execution_count": 1,
   "metadata": {},
   "outputs": [
    {
     "ename": "NameError",
     "evalue": "name 'pd' is not defined",
     "output_type": "error",
     "traceback": [
      "\u001b[1;31m---------------------------------------------------------------------------\u001b[0m",
      "\u001b[1;31mNameError\u001b[0m                                 Traceback (most recent call last)",
      "Cell \u001b[1;32mIn[1], line 1\u001b[0m\n\u001b[1;32m----> 1\u001b[0m df \u001b[39m=\u001b[39m pd\u001b[39m.\u001b[39mread_csv(\u001b[39m\"\u001b[39m\u001b[39mstud.csv\u001b[39m\u001b[39m\"\u001b[39m)\n",
      "\u001b[1;31mNameError\u001b[0m: name 'pd' is not defined"
     ]
    }
   ],
   "source": [
    "df = pd.read_csv(\"stud.csv\")"
   ]
  },
  {
   "cell_type": "code",
   "execution_count": 111,
   "metadata": {
    "tags": []
   },
   "outputs": [],
   "source": [
    "total  = df[\"math_score\"] + df['reading_score'] + df['writing_score']\n",
    "df[\"average\"] = total / 3"
   ]
  },
  {
   "cell_type": "code",
   "execution_count": 112,
   "metadata": {
    "tags": []
   },
   "outputs": [
    {
     "data": {
      "text/html": [
       "<div>\n",
       "<style scoped>\n",
       "    .dataframe tbody tr th:only-of-type {\n",
       "        vertical-align: middle;\n",
       "    }\n",
       "\n",
       "    .dataframe tbody tr th {\n",
       "        vertical-align: top;\n",
       "    }\n",
       "\n",
       "    .dataframe thead th {\n",
       "        text-align: right;\n",
       "    }\n",
       "</style>\n",
       "<table border=\"1\" class=\"dataframe\">\n",
       "  <thead>\n",
       "    <tr style=\"text-align: right;\">\n",
       "      <th></th>\n",
       "      <th>gender</th>\n",
       "      <th>race_ethnicity</th>\n",
       "      <th>parental_level_of_education</th>\n",
       "      <th>lunch</th>\n",
       "      <th>test_preparation_course</th>\n",
       "      <th>math_score</th>\n",
       "      <th>reading_score</th>\n",
       "      <th>writing_score</th>\n",
       "      <th>average</th>\n",
       "    </tr>\n",
       "  </thead>\n",
       "  <tbody>\n",
       "    <tr>\n",
       "      <th>0</th>\n",
       "      <td>female</td>\n",
       "      <td>group B</td>\n",
       "      <td>bachelor's degree</td>\n",
       "      <td>standard</td>\n",
       "      <td>none</td>\n",
       "      <td>72</td>\n",
       "      <td>72</td>\n",
       "      <td>74</td>\n",
       "      <td>72.666667</td>\n",
       "    </tr>\n",
       "    <tr>\n",
       "      <th>1</th>\n",
       "      <td>female</td>\n",
       "      <td>group C</td>\n",
       "      <td>some college</td>\n",
       "      <td>standard</td>\n",
       "      <td>completed</td>\n",
       "      <td>69</td>\n",
       "      <td>90</td>\n",
       "      <td>88</td>\n",
       "      <td>82.333333</td>\n",
       "    </tr>\n",
       "    <tr>\n",
       "      <th>2</th>\n",
       "      <td>female</td>\n",
       "      <td>group B</td>\n",
       "      <td>master's degree</td>\n",
       "      <td>standard</td>\n",
       "      <td>none</td>\n",
       "      <td>90</td>\n",
       "      <td>95</td>\n",
       "      <td>93</td>\n",
       "      <td>92.666667</td>\n",
       "    </tr>\n",
       "    <tr>\n",
       "      <th>3</th>\n",
       "      <td>male</td>\n",
       "      <td>group A</td>\n",
       "      <td>associate's degree</td>\n",
       "      <td>free/reduced</td>\n",
       "      <td>none</td>\n",
       "      <td>47</td>\n",
       "      <td>57</td>\n",
       "      <td>44</td>\n",
       "      <td>49.333333</td>\n",
       "    </tr>\n",
       "    <tr>\n",
       "      <th>4</th>\n",
       "      <td>male</td>\n",
       "      <td>group C</td>\n",
       "      <td>some college</td>\n",
       "      <td>standard</td>\n",
       "      <td>none</td>\n",
       "      <td>76</td>\n",
       "      <td>78</td>\n",
       "      <td>75</td>\n",
       "      <td>76.333333</td>\n",
       "    </tr>\n",
       "  </tbody>\n",
       "</table>\n",
       "</div>"
      ],
      "text/plain": [
       "   gender race_ethnicity parental_level_of_education         lunch  ... math_score  reading_score  writing_score    average\n",
       "0  female        group B           bachelor's degree      standard  ...         72             72             74  72.666667\n",
       "1  female        group C                some college      standard  ...         69             90             88  82.333333\n",
       "2  female        group B             master's degree      standard  ...         90             95             93  92.666667\n",
       "3    male        group A          associate's degree  free/reduced  ...         47             57             44  49.333333\n",
       "4    male        group C                some college      standard  ...         76             78             75  76.333333\n",
       "\n",
       "[5 rows x 9 columns]"
      ]
     },
     "execution_count": 112,
     "metadata": {},
     "output_type": "execute_result"
    }
   ],
   "source": [
    "df.head()"
   ]
  },
  {
   "cell_type": "code",
   "execution_count": 113,
   "metadata": {
    "tags": []
   },
   "outputs": [],
   "source": [
    "X = df.drop(\"average\",axis = 1)\n",
    "y = df[\"average\"]"
   ]
  },
  {
   "cell_type": "code",
   "execution_count": 114,
   "metadata": {
    "tags": []
   },
   "outputs": [],
   "source": [
    "numerical_features = X.select_dtypes(exclude = \"object\").columns\n",
    "categorical_features = X.select_dtypes(include = \"object\").columns"
   ]
  },
  {
   "cell_type": "code",
   "execution_count": 115,
   "metadata": {
    "tags": []
   },
   "outputs": [
    {
     "data": {
      "text/plain": [
       "Index(['gender', 'race_ethnicity', 'parental_level_of_education', 'lunch',\n",
       "       'test_preparation_course'],\n",
       "      dtype='object')"
      ]
     },
     "execution_count": 115,
     "metadata": {},
     "output_type": "execute_result"
    }
   ],
   "source": [
    "categorical_features"
   ]
  },
  {
   "cell_type": "code",
   "execution_count": 116,
   "metadata": {
    "tags": []
   },
   "outputs": [],
   "source": [
    "scaler_transformer = StandardScaler()\n",
    "oh_encoder_transformer = OneHotEncoder(handle_unknown=\"ignore\")"
   ]
  },
  {
   "cell_type": "code",
   "execution_count": 117,
   "metadata": {
    "tags": []
   },
   "outputs": [],
   "source": [
    "transformer = ColumnTransformer([\n",
    "    (\"scaler\",scaler_transformer, numerical_features),\n",
    "    (\"OneHotEncoder\",oh_encoder_transformer, categorical_features)\n",
    "    ])"
   ]
  },
  {
   "cell_type": "code",
   "execution_count": 118,
   "metadata": {
    "tags": []
   },
   "outputs": [],
   "source": [
    "X = transformer.fit_transform(X)"
   ]
  },
  {
   "cell_type": "code",
   "execution_count": 119,
   "metadata": {
    "tags": []
   },
   "outputs": [],
   "source": [
    "# train_test_split\n",
    "X_train, X_test, y_train, y_test = train_test_split(X, y, test_size = 0.2)"
   ]
  },
  {
   "cell_type": "code",
   "execution_count": 120,
   "metadata": {
    "tags": []
   },
   "outputs": [
    {
     "name": "stdout",
     "output_type": "stream",
     "text": [
      "(800, 20) (200, 20)\n"
     ]
    }
   ],
   "source": [
    "print(X_train.shape, X_test.shape)"
   ]
  },
  {
   "cell_type": "code",
   "execution_count": 121,
   "metadata": {
    "tags": []
   },
   "outputs": [],
   "source": [
    "def model_evaluate(true, predict):\n",
    "    mse = mean_squared_error(true, predict)\n",
    "    r2 = r2_score(true, predict)\n",
    "    mae = mean_absolute_error(true, predict)\n",
    "    return mse, r2, mae"
   ]
  },
  {
   "cell_type": "code",
   "execution_count": 125,
   "metadata": {
    "tags": []
   },
   "outputs": [
    {
     "name": "stdout",
     "output_type": "stream",
     "text": [
      "LinearRegression()\n",
      "model performance in training data\n",
      "Mean Square Error:  2.501320158274784e-28\n",
      "Mean Absolute Error:  1.2807532812075806e-14\n",
      "R2 score:  1.0\n",
      "\n",
      "\n",
      "model performance in test data\n",
      "Mean Square Error:  2.5458119133292495e-28\n",
      "Mean Absolute Error:  1.2754242106893798e-14\n",
      "R2 score:  1.0\n",
      "===================================\n",
      "\n",
      "\n",
      "\n",
      "Lasso()\n",
      "model performance in training data\n",
      "Mean Square Error:  1.1487211071792789\n",
      "Mean Absolute Error:  0.8600430388803986\n",
      "R2 score:  0.9942097175294325\n",
      "\n",
      "\n",
      "model performance in test data\n",
      "Mean Square Error:  1.3446592176568362\n",
      "Mean Absolute Error:  0.8984569939328597\n",
      "R2 score:  0.9939331307394952\n",
      "===================================\n",
      "\n",
      "\n",
      "\n",
      "Ridge()\n",
      "model performance in training data\n",
      "Mean Square Error:  6.422525272399515e-05\n",
      "Mean Absolute Error:  0.006440042145627212\n",
      "R2 score:  0.9999996762640185\n",
      "\n",
      "\n",
      "model performance in test data\n",
      "Mean Square Error:  7.686384984800707e-05\n",
      "Mean Absolute Error:  0.006779850612709559\n",
      "R2 score:  0.9999996532036357\n",
      "===================================\n",
      "\n",
      "\n",
      "\n",
      "SVR()\n",
      "model performance in training data\n",
      "Mean Square Error:  9.424895663028055\n",
      "Mean Absolute Error:  0.9123967356545031\n",
      "R2 score:  0.9524925521055643\n",
      "\n",
      "\n",
      "model performance in test data\n",
      "Mean Square Error:  22.43154345519425\n",
      "Mean Absolute Error:  1.298541028675739\n",
      "R2 score:  0.8987927649868477\n",
      "===================================\n",
      "\n",
      "\n",
      "\n",
      "DecisionTreeRegressor()\n",
      "model performance in training data\n",
      "Mean Square Error:  0.0\n",
      "Mean Absolute Error:  0.0\n",
      "R2 score:  1.0\n",
      "\n",
      "\n",
      "model performance in test data\n",
      "Mean Square Error:  2.9777777777777783\n",
      "Mean Absolute Error:  1.243333333333334\n",
      "R2 score:  0.9865647829372743\n",
      "===================================\n",
      "\n",
      "\n",
      "\n",
      "KNeighborsRegressor()\n",
      "model performance in training data\n",
      "Mean Square Error:  5.8484611111111136\n",
      "Mean Absolute Error:  1.8942500000000007\n",
      "R2 score:  0.9705200490877924\n",
      "\n",
      "\n",
      "model performance in test data\n",
      "Mean Square Error:  8.559244444444447\n",
      "Mean Absolute Error:  2.205333333333334\n",
      "R2 score:  0.9613821730210313\n",
      "===================================\n",
      "\n",
      "\n",
      "\n",
      "RandomForestRegressor()\n",
      "model performance in training data\n",
      "Mean Square Error:  0.08262056944444479\n",
      "Mean Absolute Error:  0.19079583333333566\n",
      "R2 score:  0.9995835399628573\n",
      "\n",
      "\n",
      "model performance in test data\n",
      "Mean Square Error:  1.4093268888888875\n",
      "Mean Absolute Error:  0.5704666666666682\n",
      "R2 score:  0.9936413614186186\n",
      "===================================\n",
      "\n",
      "\n",
      "\n",
      "XGBRegressor(base_score=None, booster=None, callbacks=None,\n",
      "             colsample_bylevel=None, colsample_bynode=None,\n",
      "             colsample_bytree=None, early_stopping_rounds=None,\n",
      "             enable_categorical=False, eval_metric=None, feature_types=None,\n",
      "             gamma=None, gpu_id=None, grow_policy=None, importance_type=None,\n",
      "             interaction_constraints=None, learning_rate=None, max_bin=None,\n",
      "             max_cat_threshold=None, max_cat_to_onehot=None,\n",
      "             max_delta_step=None, max_depth=None, max_leaves=None,\n",
      "             min_child_weight=None, missing=nan, monotone_constraints=None,\n",
      "             n_estimators=100, n_jobs=None, num_parallel_tree=None,\n",
      "             predictor=None, random_state=None, ...)\n",
      "model performance in training data\n",
      "Mean Square Error:  0.0018675261934746762\n",
      "Mean Absolute Error:  0.031048489411671928\n",
      "R2 score:  0.9999905864842965\n",
      "\n",
      "\n",
      "model performance in test data\n",
      "Mean Square Error:  0.9034433858707722\n",
      "Mean Absolute Error:  0.5100625960032145\n",
      "R2 score:  0.9959238200769582\n",
      "===================================\n",
      "\n",
      "\n",
      "\n"
     ]
    }
   ],
   "source": [
    "models = {\n",
    "    \"LinearRegression\":LinearRegression(),\n",
    "   \"Lasso\":Lasso(),\n",
    "    \"Ridge\":Ridge(),\n",
    "    \"SVR\":SVR(),\n",
    "    \"Decision Tree\":DecisionTreeRegressor(),\n",
    "    \"k-Neighbour\":KNeighborsRegressor(),\n",
    "    \"Random Forest\":RandomForestRegressor(),\n",
    "    \"Xgboost\":XGBRegressor(),\n",
    "    \n",
    "}\n",
    "model_list = []\n",
    "r2_list = []\n",
    "\n",
    "for i in range(len(models)):\n",
    "    #model_train\n",
    "    model = list(models.values())[i]\n",
    "    model.fit(X_train, y_train)\n",
    "    \n",
    "    # making prediction\n",
    "    y_train_pred = model.predict(X_train)\n",
    "    y_test_pred = model.predict(X_test)\n",
    "    \n",
    "    #model Evalution\n",
    "    train_mse, train_r2, train_mae = model_evaluate(y_train, y_train_pred)  #training data evalution\n",
    "    test_mse, test_r2, test_mae = model_evaluate(y_test, y_test_pred)   #test data evalution\n",
    "    \n",
    "    model_list.append(list(models.keys())[i])\n",
    "    print(list(models.values())[i])\n",
    "    print(\"model performance in training data\")\n",
    "    print(\"Mean Square Error: \", train_mse)\n",
    "    print(\"Mean Absolute Error: \", train_mae)\n",
    "    print(\"R2 score: \", train_r2)\n",
    "    print(\"\\n\")\n",
    "    \n",
    "    print(\"model performance in test data\")\n",
    "    print(\"Mean Square Error: \", test_mse)\n",
    "    print(\"Mean Absolute Error: \", test_mae)\n",
    "    print(\"R2 score: \", test_r2)\n",
    "    print(\"===================================\\n\\n\\n\")\n",
    "    \n",
    "    r2_list.append(test_r2)"
   ]
  },
  {
   "cell_type": "code",
   "execution_count": 133,
   "metadata": {
    "tags": []
   },
   "outputs": [
    {
     "data": {
      "text/html": [
       "<div>\n",
       "<style scoped>\n",
       "    .dataframe tbody tr th:only-of-type {\n",
       "        vertical-align: middle;\n",
       "    }\n",
       "\n",
       "    .dataframe tbody tr th {\n",
       "        vertical-align: top;\n",
       "    }\n",
       "\n",
       "    .dataframe thead th {\n",
       "        text-align: right;\n",
       "    }\n",
       "</style>\n",
       "<table border=\"1\" class=\"dataframe\">\n",
       "  <thead>\n",
       "    <tr style=\"text-align: right;\">\n",
       "      <th></th>\n",
       "      <th>models</th>\n",
       "      <th>R2_score</th>\n",
       "    </tr>\n",
       "  </thead>\n",
       "  <tbody>\n",
       "    <tr>\n",
       "      <th>0</th>\n",
       "      <td>LinearRegression</td>\n",
       "      <td>1.000000</td>\n",
       "    </tr>\n",
       "    <tr>\n",
       "      <th>2</th>\n",
       "      <td>Ridge</td>\n",
       "      <td>1.000000</td>\n",
       "    </tr>\n",
       "    <tr>\n",
       "      <th>7</th>\n",
       "      <td>Xgboost</td>\n",
       "      <td>0.995924</td>\n",
       "    </tr>\n",
       "    <tr>\n",
       "      <th>1</th>\n",
       "      <td>Lasso</td>\n",
       "      <td>0.993933</td>\n",
       "    </tr>\n",
       "    <tr>\n",
       "      <th>6</th>\n",
       "      <td>Random Forest</td>\n",
       "      <td>0.993641</td>\n",
       "    </tr>\n",
       "    <tr>\n",
       "      <th>4</th>\n",
       "      <td>Decision Tree</td>\n",
       "      <td>0.986565</td>\n",
       "    </tr>\n",
       "    <tr>\n",
       "      <th>5</th>\n",
       "      <td>k-Neighbour</td>\n",
       "      <td>0.961382</td>\n",
       "    </tr>\n",
       "    <tr>\n",
       "      <th>3</th>\n",
       "      <td>SVR</td>\n",
       "      <td>0.898793</td>\n",
       "    </tr>\n",
       "  </tbody>\n",
       "</table>\n",
       "</div>"
      ],
      "text/plain": [
       "             models  R2_score\n",
       "0  LinearRegression  1.000000\n",
       "2             Ridge  1.000000\n",
       "7           Xgboost  0.995924\n",
       "1             Lasso  0.993933\n",
       "6     Random Forest  0.993641\n",
       "4     Decision Tree  0.986565\n",
       "5       k-Neighbour  0.961382\n",
       "3               SVR  0.898793"
      ]
     },
     "execution_count": 133,
     "metadata": {},
     "output_type": "execute_result"
    }
   ],
   "source": [
    "pd.DataFrame(list(zip(model_list,r2_list)), columns=[\"models\", \"R2_score\"]).sort_values(by=[\"R2_score\"], ascending=False)"
   ]
  },
  {
   "cell_type": "markdown",
   "metadata": {
    "tags": []
   },
   "source": [
    "# Linear Regression"
   ]
  },
  {
   "cell_type": "code",
   "execution_count": 134,
   "metadata": {
    "tags": []
   },
   "outputs": [
    {
     "name": "stdout",
     "output_type": "stream",
     "text": [
      "accuracy:  1.0\n"
     ]
    }
   ],
   "source": [
    "linear_model = LinearRegression()\n",
    "linear_model.fit(X_train, y_train)\n",
    "y_pred = linear_model.predict(X_test)\n",
    "r2 = r2_score(y_test, y_pred)\n",
    "print(\"accuracy: \", r2)"
   ]
  },
  {
   "cell_type": "markdown",
   "metadata": {},
   "source": [
    "# plot y_pred and y_test"
   ]
  },
  {
   "cell_type": "code",
   "execution_count": 136,
   "metadata": {
    "tags": []
   },
   "outputs": [
    {
     "data": {
      "image/png": "[encoded data removed]",
      "text/plain": [
       "<Figure size 640x480 with 1 Axes>"
      ]
     },
     "metadata": {},
     "output_type": "display_data"
    }
   ],
   "source": [
    "plt.scatter(y_test, y_pred)\n",
    "plt.xlabel(\"Actual\")\n",
    "plt.ylabel(\"Predict\")\n",
    "plt.show()"
   ]
  },
  {
   "cell_type": "code",
   "execution_count": 137,
   "metadata": {
    "tags": []
   },
   "outputs": [
    {
     "data": {
      "text/plain": [
       "<Axes: xlabel='average'>"
      ]
     },
     "execution_count": 137,
     "metadata": {},
     "output_type": "execute_result"
    },
    {
     "data": {
      "image/png": "[encoded data removed]",
      "text/plain": [
       "<Figure size 640x480 with 1 Axes>"
      ]
     },
     "metadata": {},
     "output_type": "display_data"
    }
   ],
   "source": [
    "sns.regplot(x=y_test, y=y_pred,color=\"red\")"
   ]
  },
  {
   "cell_type": "code",
   "execution_count": null,
   "metadata": {},
   "outputs": [],
   "source": []
  }
 ],
 "metadata": {
  "colab": {
   "provenance": []
  },
  "gpuClass": "standard",
  "kernelspec": {
   "display_name": "Python 3 (ipykernel)",
   "language": "python",
   "name": "python3"
  },
  "language_info": {
   "codemirror_mode": {
    "name": "ipython",
    "version": 3
   },
   "file_extension": ".py",
   "mimetype": "text/x-python",
   "name": "python",
   "nbconvert_exporter": "python",
   "pygments_lexer": "ipython3",
   "version": "3.11.1"
  }
 },
 "nbformat": 4,
 "nbformat_minor": 4
}
